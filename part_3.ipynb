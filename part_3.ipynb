{
 "cells": [
  {
   "cell_type": "markdown",
   "metadata": {},
   "source": [
    "#### This code check if the entered year is leap year or not"
   ]
  },
  {
   "cell_type": "code",
   "execution_count": null,
   "metadata": {},
   "outputs": [],
   "source": [
    "year = int(input(\" Enter year to be checked \"))\n",
    "if ( year%4 == 0 and year%100 != 0 or year%400 == 0 ):\n",
    "    print( year,\" is leap year\")\n",
    "else:\n",
    "    print(year,\"is not leap year\")"
   ]
  },
  {
   "cell_type": "markdown",
   "metadata": {},
   "source": [
    "#### This code count the sum of the digits of the number given by user :-\n",
    "for example :- 123456789 = 45 ( 1+2+3+4+5+6+7+8+9 = 45)"
   ]
  },
  {
   "cell_type": "code",
   "execution_count": null,
   "metadata": {},
   "outputs": [],
   "source": [
    "n = int (input(\" enter any number of your choice\"))\n",
    "sum = 0\n",
    "while (n>0):\n",
    "    x = n%10\n",
    "    sum = sum + x\n",
    "    n=n//10\n",
    "print(\"Sum of digits of the number is\",sum)"
   ]
  },
  {
   "cell_type": "markdown",
   "metadata": {},
   "source": [
    "#### This is the code to calculate the power of the given number "
   ]
  },
  {
   "cell_type": "code",
   "execution_count": null,
   "metadata": {},
   "outputs": [],
   "source": [
    "num = int(input (\"Enter any number := \"))\n",
    "num2 = int(input(\" Enter exponentiol number := \"))\n",
    "sum = 1\n",
    "for i in range (num2):\n",
    "    sum = num*sum\n",
    "print(sum)"
   ]
  },
  {
   "cell_type": "markdown",
   "metadata": {},
   "source": [
    "#### This code calculate the LCM of the given number "
   ]
  },
  {
   "cell_type": "code",
   "execution_count": null,
   "metadata": {},
   "outputs": [],
   "source": [
    "a = int(input ( \" enter the first number :=\"))\n",
    "b = int(input(\"Enter the secound number := \"))\n",
    "if (a>b):\n",
    "    min = a\n",
    "else:\n",
    "    min=b\n",
    "while(1):\n",
    "    if (min%a == 0 and min%b == 0):\n",
    "        print(\" LCM is \",min)\n",
    "        break\n",
    "    min = min + 1"
   ]
  },
  {
   "cell_type": "markdown",
   "metadata": {},
   "source": [
    "#### This code calculate the HCF of the given number "
   ]
  },
  {
   "cell_type": "code",
   "execution_count": null,
   "metadata": {},
   "outputs": [],
   "source": [
    "def hcf (a,b):\n",
    "    if ( b == 0):\n",
    "        return a \n",
    "    else :\n",
    "        return hcf(b,a % b)\n",
    "a = int(input(\" Enter first number := \"))\n",
    "b = int( input(\" Enter secound number := \"))\n",
    "ans = hcf(a,b)\n",
    "print (\" HCF is \",ans)"
   ]
  },
  {
   "cell_type": "code",
   "execution_count": null,
   "metadata": {},
   "outputs": [],
   "source": []
  }
 ],
 "metadata": {
  "kernelspec": {
   "display_name": "Python 3.10.4 64-bit",
   "language": "python",
   "name": "python3"
  },
  "language_info": {
   "codemirror_mode": {
    "name": "ipython",
    "version": 3
   },
   "file_extension": ".py",
   "mimetype": "text/x-python",
   "name": "python",
   "nbconvert_exporter": "python",
   "pygments_lexer": "ipython3",
   "version": "3.10.4"
  },
  "orig_nbformat": 4,
  "vscode": {
   "interpreter": {
    "hash": "d09c7acabcf34dc5f63b739b887b4fa1178a2587d2e0947f2f1e020b9fc2c9c1"
   }
  }
 },
 "nbformat": 4,
 "nbformat_minor": 2
}

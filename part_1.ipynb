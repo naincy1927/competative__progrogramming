{
 "cells": [
  {
   "cell_type": "code",
   "execution_count": null,
   "metadata": {},
   "outputs": [],
   "source": [
    "##code to find the factorial of the given number\n",
    "fact = 1\n",
    "num = int ( input( \" enter any number of your choice\"))\n",
    "for i in  range ( 1, num + 1):\n",
    "    fact = fact*i\n",
    "print (\" factorial of\",num ,\"is\" , fact)"
   ]
  },
  {
   "cell_type": "code",
   "execution_count": null,
   "metadata": {},
   "outputs": [],
   "source": [
    "# to find factorial of any number using functions\n",
    "def factorial(num):\n",
    "    if num <= 1:\n",
    "        return 1 \n",
    "    else :\n",
    "        num = num * factorial(num - 1)\n",
    "        return num \n",
    "num  = int(input(\" enter any number of your choice : \"))\n",
    "print( \" factorial of \" , num ,\"is\", factorial(num))"
   ]
  },
  {
   "cell_type": "code",
   "execution_count": null,
   "metadata": {},
   "outputs": [],
   "source": []
  }
 ],
 "metadata": {
  "kernelspec": {
   "display_name": "Python 3.10.4 64-bit",
   "language": "python",
   "name": "python3"
  },
  "language_info": {
   "codemirror_mode": {
    "name": "ipython",
    "version": 3
   },
   "file_extension": ".py",
   "mimetype": "text/x-python",
   "name": "python",
   "nbconvert_exporter": "python",
   "pygments_lexer": "ipython3",
   "version": "3.10.4"
  },
  "orig_nbformat": 4,
  "vscode": {
   "interpreter": {
    "hash": "d09c7acabcf34dc5f63b739b887b4fa1178a2587d2e0947f2f1e020b9fc2c9c1"
   }
  }
 },
 "nbformat": 4,
 "nbformat_minor": 2
}

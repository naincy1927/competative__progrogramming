{
 "cells": [
  {
   "cell_type": "markdown",
   "metadata": {},
   "source": [
    "#### PRIME NUMBER IS AN NUMBER WHICH IS EITHER DIVIDED BY ONE OR IT SELF .....\n",
    "  FOR EXAMPLE 1, 3, 5, 7, 11, 13......# PRIME NUMBER IS AN NUMBER WHICH IS EITHER DIVIDED BY ONE OR IT SELF ...\n"
   ]
  },
  {
   "cell_type": "code",
   "execution_count": null,
   "metadata": {},
   "outputs": [],
   "source": [
    "\n",
    "count = 0\n",
    "n = int(input( \" enter any number of your choice\"))\n",
    "for i in range ( 1 , n+1):\n",
    "    if n % i == 0:\n",
    "        count += 1\n",
    "if count == 2:\n",
    "    print(n, \" is not a prime number \")\n",
    "else :\n",
    "    print(n,\"is not a prime number\")"
   ]
  },
  {
   "cell_type": "markdown",
   "metadata": {},
   "source": [
    "\n",
    "#### PRIME NUMBER IS AN NUMBER WHICH IS EITHER DIVIDED BY ONE OR IT SELF .....\n",
    "FOR EXAMPLE 1, 3, 5, 7, 11, 13......# PRIME NUMBER IS AN NUMBER WHICH IS EITHER DIVIDED BY ONE OR IT SELF ...\n"
   ]
  },
  {
   "cell_type": "code",
   "execution_count": null,
   "metadata": {},
   "outputs": [],
   "source": [
    "\n",
    "x = 2\n",
    "ch  = 0\n",
    "n= int(input( \" enter any number of your choice : \") )\n",
    "if n <= 1:\n",
    "    ch = 1\n",
    "while x <= n/2:\n",
    "    if n%x == 0:\n",
    "        ch = 1\n",
    "        break\n",
    "    else:\n",
    "       x += 1\n",
    "if ch == 0 :\n",
    "    print (n, \" is an prime number \")\n",
    "else:\n",
    "    print(n,\" is not an prime number\")"
   ]
  },
  {
   "cell_type": "markdown",
   "metadata": {},
   "source": [
    "#### this code prints the maximum and the minimum number amoungs the given number :---"
   ]
  },
  {
   "cell_type": "code",
   "execution_count": null,
   "metadata": {},
   "outputs": [],
   "source": [
    "\n",
    "arr = []\n",
    "num = int(input(\"enter any number of your choice : \"))\n",
    "for n in range (num):\n",
    "    numbers = int(input( \" enter any number of your choice : \"))\n",
    "    arr.append(numbers)\n",
    "print(\" maximum element in the list is : \",max(arr))\n",
    "print(\" minimum element in the list is : \",min( arr))"
   ]
  },
  {
   "cell_type": "markdown",
   "metadata": {},
   "source": [
    "##this code swaps two numbers with the help of third veriable"
   ]
  },
  {
   "cell_type": "code",
   "execution_count": null,
   "metadata": {},
   "outputs": [],
   "source": [
    "x = int(input(\" Enter any number of your choice : \"))\n",
    "y = int(input( \" Enter any number of your choice : \"))\n",
    "print(\" Before swapping \\n first entered number is :--- \",x,\"\\n secound entered number is :---\",y,\"\\n\")\n",
    "temp = x\n",
    "x=y\n",
    "y = temp \n",
    "print(\" After swapping\\n First enterd number is :---\",x,\" \\nsecound number is :---\",y)\n"
   ]
  },
  {
   "cell_type": "markdown",
   "metadata": {},
   "source": [
    "##### code to print fibonacci series --->"
   ]
  },
  {
   "cell_type": "code",
   "execution_count": null,
   "metadata": {},
   "outputs": [],
   "source": [
    "a = 0\n",
    "b = 1\n",
    "n = int(input(\" enter how many number you want in series :  \"))\n",
    "print(\" \",a,\" \",b,end=\" \")\n",
    "for i in range(n):\n",
    "    c = a+b\n",
    "    a = b\n",
    "    b = c\n",
    "    print (\" \",c,end=\" \")"
   ]
  },
  {
   "cell_type": "markdown",
   "metadata": {},
   "source": [
    "#### This code check if the entered string is PALINDROME or not"
   ]
  },
  {
   "cell_type": "code",
   "execution_count": null,
   "metadata": {},
   "outputs": [],
   "source": [
    "str = input(\" enter the string to chek if it is pallindrome or not : \")\n",
    "str = str[::-1]\n",
    "if (str == str[::-1]):\n",
    "    print(str,\" \",\" is pallindrome\")\n",
    "else :\n",
    "    print(str,\" \",\" is not pallindrome\")"
   ]
  },
  {
   "cell_type": "markdown",
   "metadata": {},
   "source": [
    "#### This code check if the entered NUMBER is PALINDROME or not"
   ]
  },
  {
   "cell_type": "code",
   "execution_count": 7,
   "metadata": {},
   "outputs": [
    {
     "name": "stdout",
     "output_type": "stream",
     "text": [
      " entered number  is palindrome number \n"
     ]
    }
   ],
   "source": [
    "n = int(input( \" enter the number of your choice\"))\n",
    "temp = n\n",
    "rev = 0\n",
    "while (n>0):\n",
    "    d = n%10 \n",
    "    rev = rev * 10 + d\n",
    "    n = n //10\n",
    "if (temp == rev):\n",
    "    print(\" entered number  is palindrome number \")\n",
    "else :\n",
    "    print (\"entered number is not palindrome \")"
   ]
  },
  {
   "cell_type": "code",
   "execution_count": null,
   "metadata": {},
   "outputs": [],
   "source": []
  }
 ],
 "metadata": {
  "kernelspec": {
   "display_name": "Python 3.10.4 64-bit",
   "language": "python",
   "name": "python3"
  },
  "language_info": {
   "codemirror_mode": {
    "name": "ipython",
    "version": 3
   },
   "file_extension": ".py",
   "mimetype": "text/x-python",
   "name": "python",
   "nbconvert_exporter": "python",
   "pygments_lexer": "ipython3",
   "version": "3.10.4"
  },
  "orig_nbformat": 4,
  "vscode": {
   "interpreter": {
    "hash": "d09c7acabcf34dc5f63b739b887b4fa1178a2587d2e0947f2f1e020b9fc2c9c1"
   }
  }
 },
 "nbformat": 4,
 "nbformat_minor": 2
}

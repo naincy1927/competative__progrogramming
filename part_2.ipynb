{
 "cells": [
  {
   "cell_type": "markdown",
   "metadata": {},
   "source": [
    "#### PRIME NUMBER IS AN NUMBER WHICH IS EITHER DIVIDED BY ONE OR IT SELF .....\n",
    "  FOR EXAMPLE 1, 3, 5, 7, 11, 13......# PRIME NUMBER IS AN NUMBER WHICH IS EITHER DIVIDED BY ONE OR IT SELF ...\n"
   ]
  },
  {
   "cell_type": "code",
   "execution_count": 1,
   "metadata": {},
   "outputs": [
    {
     "name": "stdout",
     "output_type": "stream",
     "text": [
      "67  is not a prime number \n"
     ]
    }
   ],
   "source": [
    "\n",
    "count = 0\n",
    "n = int(input( \" enter any number of your choice\"))\n",
    "for i in range ( 1 , n+1):\n",
    "    if n % i == 0:\n",
    "        count += 1\n",
    "if count == 2:\n",
    "    print(n, \" is not a prime number \")\n",
    "else :\n",
    "    print(n,\"is not a prime number\")"
   ]
  },
  {
   "cell_type": "markdown",
   "metadata": {},
   "source": [
    "\n",
    "#### PRIME NUMBER IS AN NUMBER WHICH IS EITHER DIVIDED BY ONE OR IT SELF .....\n",
    "FOR EXAMPLE 1, 3, 5, 7, 11, 13......# PRIME NUMBER IS AN NUMBER WHICH IS EITHER DIVIDED BY ONE OR IT SELF ...\n"
   ]
  },
  {
   "cell_type": "code",
   "execution_count": 2,
   "metadata": {},
   "outputs": [
    {
     "name": "stdout",
     "output_type": "stream",
     "text": [
      "890  is not an prime number\n"
     ]
    }
   ],
   "source": [
    "\n",
    "x = 2\n",
    "ch  = 0\n",
    "n= int(input( \" enter any number of your choice : \") )\n",
    "if n <= 1:\n",
    "    ch = 1\n",
    "while x <= n/2:\n",
    "    if n%x == 0:\n",
    "        ch = 1\n",
    "        break\n",
    "    else:\n",
    "       x += 1\n",
    "if ch == 0 :\n",
    "    print (n, \" is an prime number \")\n",
    "else:\n",
    "    print(n,\" is not an prime number\")"
   ]
  },
  {
   "cell_type": "markdown",
   "metadata": {},
   "source": [
    "##this code prints the maximum and the minimum number amoungs the given number :---"
   ]
  },
  {
   "cell_type": "code",
   "execution_count": 4,
   "metadata": {},
   "outputs": [
    {
     "name": "stdout",
     "output_type": "stream",
     "text": [
      " maximum element in the list is :  98\n",
      " minimum element in the list is :  9\n"
     ]
    }
   ],
   "source": [
    "\n",
    "arr = []\n",
    "num = int(input(\"enter any number of your choice : \"))\n",
    "for n in range (num):\n",
    "    numbers = int(input( \" enter any number of your choice : \"))\n",
    "    arr.append(numbers)\n",
    "print(\" maximum element in the list is : \",max(arr))\n",
    "print(\" minimum element in the list is : \",min( arr))"
   ]
  },
  {
   "cell_type": "markdown",
   "metadata": {},
   "source": [
    "##this code swaps two numbers with the help of third veriable"
   ]
  },
  {
   "cell_type": "code",
   "execution_count": 9,
   "metadata": {},
   "outputs": [
    {
     "name": "stdout",
     "output_type": "stream",
     "text": [
      " Before swapping \n",
      " first entered number is :---  667890 \n",
      " secound entered number is :--- 2457867 \n",
      "\n",
      " After swapping\n",
      " First enterd number is :--- 2457867  \n",
      "secound number is :--- 667890\n"
     ]
    }
   ],
   "source": [
    "x = int(input(\" Enter any number of your choice : \"))\n",
    "y = int(input( \" Enter any number of your choice : \"))\n",
    "print(\" Before swapping \\n first entered number is :--- \",x,\"\\n secound entered number is :---\",y,\"\\n\")\n",
    "temp = x\n",
    "x=y\n",
    "y = temp \n",
    "print(\" After swapping\\n First enterd number is :---\",x,\" \\nsecound number is :---\",y)\n"
   ]
  },
  {
   "cell_type": "markdown",
   "metadata": {},
   "source": [
    "##### code to print fibonacci series --->"
   ]
  },
  {
   "cell_type": "code",
   "execution_count": null,
   "metadata": {},
   "outputs": [],
   "source": [
    "a = 0\n",
    "b = 1\n",
    "n = int(input(\" Enter \"))"
   ]
  }
 ],
 "metadata": {
  "kernelspec": {
   "display_name": "Python 3.10.4 64-bit",
   "language": "python",
   "name": "python3"
  },
  "language_info": {
   "codemirror_mode": {
    "name": "ipython",
    "version": 3
   },
   "file_extension": ".py",
   "mimetype": "text/x-python",
   "name": "python",
   "nbconvert_exporter": "python",
   "pygments_lexer": "ipython3",
   "version": "3.10.4"
  },
  "orig_nbformat": 4,
  "vscode": {
   "interpreter": {
    "hash": "d09c7acabcf34dc5f63b739b887b4fa1178a2587d2e0947f2f1e020b9fc2c9c1"
   }
  }
 },
 "nbformat": 4,
 "nbformat_minor": 2
}
